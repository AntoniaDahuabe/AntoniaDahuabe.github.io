{
  "nbformat": 4,
  "nbformat_minor": 0,
  "metadata": {
    "colab": {
      "provenance": []
    },
    "kernelspec": {
      "name": "python3",
      "display_name": "Python 3"
    },
    "language_info": {
      "name": "python"
    }
  },
  "cells": [
    {
      "cell_type": "code",
      "execution_count": 6,
      "metadata": {
        "colab": {
          "base_uri": "https://localhost:8080/",
          "height": 17
        },
        "id": "GeGg_y2cojd7",
        "outputId": "9496c7a1-436e-425d-8b61-15dc013f399d"
      },
      "outputs": [
        {
          "output_type": "display_data",
          "data": {
            "text/plain": [
              "<IPython.core.display.Javascript object>"
            ],
            "application/javascript": [
              "\n",
              "    async function download(id, filename, size) {\n",
              "      if (!google.colab.kernel.accessAllowed) {\n",
              "        return;\n",
              "      }\n",
              "      const div = document.createElement('div');\n",
              "      const label = document.createElement('label');\n",
              "      label.textContent = `Downloading \"${filename}\": `;\n",
              "      div.appendChild(label);\n",
              "      const progress = document.createElement('progress');\n",
              "      progress.max = size;\n",
              "      div.appendChild(progress);\n",
              "      document.body.appendChild(div);\n",
              "\n",
              "      const buffers = [];\n",
              "      let downloaded = 0;\n",
              "\n",
              "      const channel = await google.colab.kernel.comms.open(id);\n",
              "      // Send a message to notify the kernel that we're ready.\n",
              "      channel.send({})\n",
              "\n",
              "      for await (const message of channel.messages) {\n",
              "        // Send a message to notify the kernel that we're ready.\n",
              "        channel.send({})\n",
              "        if (message.buffers) {\n",
              "          for (const buffer of message.buffers) {\n",
              "            buffers.push(buffer);\n",
              "            downloaded += buffer.byteLength;\n",
              "            progress.value = downloaded;\n",
              "          }\n",
              "        }\n",
              "      }\n",
              "      const blob = new Blob(buffers, {type: 'application/binary'});\n",
              "      const a = document.createElement('a');\n",
              "      a.href = window.URL.createObjectURL(blob);\n",
              "      a.download = filename;\n",
              "      div.appendChild(a);\n",
              "      a.click();\n",
              "      div.remove();\n",
              "    }\n",
              "  "
            ]
          },
          "metadata": {}
        },
        {
          "output_type": "display_data",
          "data": {
            "text/plain": [
              "<IPython.core.display.Javascript object>"
            ],
            "application/javascript": [
              "download(\"download_e4fbc3d9-3885-4594-9e7c-aad1ea853e67\", \"combined_leave_and_wage_gap_data.json\", 10202)"
            ]
          },
          "metadata": {}
        }
      ],
      "source": [
        "import pandas as pd\n",
        "import json\n",
        "from google.colab import files\n",
        "\n",
        "# Data\n",
        "data_father = pd.read_csv('Project_days-leave-available-for-father.csv')\n",
        "data_mother = pd.read_csv('Project_days-leave-available-for-mother.csv')\n",
        "data_gap = pd.read_csv('Project_gender-gap-in-average-wages-ilo.csv')\n",
        "\n",
        "# Filter to 2014 (for broad comparison)\n",
        "data_father_2014 = data_father[data_father['Year'] == 2014][['Entity', 'Total days of leave available for the father']]\n",
        "data_mother_2014 = data_mother[data_mother['Year'] == 2014][['Entity', 'Total days of leave available for the mother']]\n",
        "data_gap_2014 = data_gap[data_gap['Year'] == 2014][['Entity', 'Gender wage gap (%)']]\n",
        "\n",
        "# Merge by entity\n",
        "merged_data = data_father_2014.merge(data_mother_2014, on='Entity', how='inner')\n",
        "merged_data = merged_data.merge(data_gap_2014, on='Entity', how='inner')\n",
        "\n",
        "# Convert to JSON\n",
        "merged_data_json = merged_data.to_dict(orient='records')\n",
        "\n",
        "json_str = json.dumps(merged_data_json, indent=4)\n",
        "with open('combined_leave_and_wage_gap_data.json', 'w') as file:\n",
        "    file.write(json_str)\n",
        "\n",
        "files.download('combined_leave_and_wage_gap_data.json')\n"
      ]
    }
  ]
}