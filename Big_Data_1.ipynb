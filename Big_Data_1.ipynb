{
  "nbformat": 4,
  "nbformat_minor": 0,
  "metadata": {
    "colab": {
      "provenance": []
    },
    "kernelspec": {
      "name": "python3",
      "display_name": "Python 3"
    },
    "language_info": {
      "name": "python"
    }
  },
  "cells": [
    {
      "cell_type": "code",
      "execution_count": 12,
      "metadata": {
        "colab": {
          "base_uri": "https://localhost:8080/"
        },
        "id": "jOoMA7UQKnkQ",
        "outputId": "996708d8-616f-4f1c-a544-74c0561efa2a"
      },
      "outputs": [
        {
          "output_type": "stream",
          "name": "stderr",
          "text": [
            "<ipython-input-12-d668607b4181>:21: SettingWithCopyWarning: \n",
            "A value is trying to be set on a copy of a slice from a DataFrame.\n",
            "Try using .loc[row_indexer,col_indexer] = value instead\n",
            "\n",
            "See the caveats in the documentation: https://pandas.pydata.org/pandas-docs/stable/user_guide/indexing.html#returning-a-view-versus-a-copy\n",
            "  filtered_prices['description'] = filtered_prices['item_id'].map(gendered_pairs)\n",
            "<ipython-input-12-d668607b4181>:24: SettingWithCopyWarning: \n",
            "A value is trying to be set on a copy of a slice from a DataFrame.\n",
            "Try using .loc[row_indexer,col_indexer] = value instead\n",
            "\n",
            "See the caveats in the documentation: https://pandas.pydata.org/pandas-docs/stable/user_guide/indexing.html#returning-a-view-versus-a-copy\n",
            "  filtered_prices['quote_date'] = pd.to_datetime(filtered_prices['quote_date'], format='%Y%m', errors='coerce')\n"
          ]
        }
      ],
      "source": [
        "import pandas as pd\n",
        "\n",
        "# db_prices data\n",
        "prices_url = \"/content/db_prices.csv\"  # Update with the actual file path or URL\n",
        "db_prices = pd.read_csv(prices_url)\n",
        "\n",
        "# Gendered pairs (from screening db_item)\n",
        "gendered_pairs = {\n",
        "    510107: \"MEN'S CARDIGAN\",\n",
        "    510233: \"WOMEN'S CARDIGAN\",\n",
        "    510119: \"MEN'S JEANS -2\",\n",
        "    510231: \"WOMEN'S JEANS -2\",\n",
        "    510522: \"MEN'S LEATHER BOOTS\",\n",
        "    510523: \"WOMEN'S LEATHER BOOTS\",\n",
        "    510524: \"MEN'S SANDALS\",\n",
        "    510506: \"WOMEN'S SANDALS\",\n",
        "}\n",
        "\n",
        "# Filter\n",
        "filtered_prices = db_prices[db_prices['item_id'].isin(gendered_pairs.keys())]\n",
        "filtered_prices['description'] = filtered_prices['item_id'].map(gendered_pairs)\n",
        "\n",
        "# Convert date\n",
        "filtered_prices['quote_date'] = pd.to_datetime(filtered_prices['quote_date'], format='%Y%m', errors='coerce')\n",
        "\n",
        "# Average prices by item_id, quote_date, and region\n",
        "averaged_prices = filtered_prices.groupby(['item_id', 'quote_date', 'region'], as_index=False)['price'].mean()\n",
        "\n",
        "# Add description\n",
        "averaged_prices['description'] = averaged_prices['item_id'].map(gendered_pairs)\n",
        "\n",
        "# Relevant columns\n",
        "output_data = averaged_prices[['item_id', 'description', 'quote_date', 'price', 'region']]\n",
        "\n",
        "# Save\n",
        "output_csv_path = \"gendered_pairs_prices.csv\"\n",
        "output_data.to_csv(output_csv_path, index=False)\n"
      ]
    }
  ]
}