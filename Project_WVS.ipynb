{
  "nbformat": 4,
  "nbformat_minor": 0,
  "metadata": {
    "colab": {
      "provenance": []
    },
    "kernelspec": {
      "name": "python3",
      "display_name": "Python 3"
    },
    "language_info": {
      "name": "python"
    }
  },
  "cells": [
    {
      "cell_type": "code",
      "execution_count": 15,
      "metadata": {
        "colab": {
          "base_uri": "https://localhost:8080/"
        },
        "id": "0A2qqZtDHj6h",
        "outputId": "f8aa00de-cfdb-46bb-f1cf-ee61b8e901d8"
      },
      "outputs": [
        {
          "output_type": "stream",
          "name": "stderr",
          "text": [
            "<ipython-input-15-c7b3c62c417c>:4: DtypeWarning: Columns (346,348,350,580,581,582,583) have mixed types. Specify dtype option on import or set low_memory=False.\n",
            "  data = pd.read_csv(\"Project_WVS_Cross-National_Wave_7_csv_v6_0.csv\")\n",
            "<ipython-input-15-c7b3c62c417c>:17: DeprecationWarning: DataFrameGroupBy.apply operated on the grouping columns. This behavior is deprecated, and in a future version of pandas the grouping columns will be excluded from the operation. Either pass `include_groups=False` to exclude the groupings or explicitly select the grouping columns after groupby to silence this warning.\n",
            "  averaged_data = filtered_data.groupby('B_COUNTRY_ALPHA').apply(\n"
          ]
        }
      ],
      "source": [
        "import pandas as pd\n",
        "\n",
        "# Data\n",
        "data = pd.read_csv(\"Project_WVS_Cross-National_Wave_7_csv_v6_0.csv\")\n",
        "\n",
        "# Relevant cols\n",
        "columns_to_keep = ['Q28', 'A_YEAR', 'B_COUNTRY_ALPHA', 'PWGHT']\n",
        "filtered_data = data[columns_to_keep]\n",
        "\n",
        "# Keep Chile and UK\n",
        "filtered_data = filtered_data[filtered_data['B_COUNTRY_ALPHA'].isin(['CHL', 'GBR'])]\n",
        "\n",
        "# Explicitly exclude missing values from Q28 (-5, -2, -1) for calculations\n",
        "filtered_data = filtered_data[~filtered_data['Q28'].isin([-5, -2, -1])]\n",
        "\n",
        "# Weighted averaging by country with percentage calculations\n",
        "averaged_data = filtered_data.groupby('B_COUNTRY_ALPHA').apply(\n",
        "    lambda x: pd.Series({\n",
        "        'A_YEAR': x['A_YEAR'].iloc[0],  # Each country has one year\n",
        "        'Weighted_Q28': (x['Q28'] * x['PWGHT']).sum() / x['PWGHT'].sum(),\n",
        "        'Strongly_Agree_Percent': ((x['Q28'] == 1) * x['PWGHT']).sum() / x['PWGHT'].sum() * 100,\n",
        "        'Agree_Percent': ((x['Q28'] == 2) * x['PWGHT']).sum() / x['PWGHT'].sum() * 100,\n",
        "        'Disagree_Percent': ((x['Q28'] == 3) * x['PWGHT']).sum() / x['PWGHT'].sum() * 100,\n",
        "        'Strongly_Disagree_Percent': ((x['Q28'] == 4) * x['PWGHT']).sum() / x['PWGHT'].sum() * 100\n",
        "    })\n",
        ").reset_index()\n",
        "\n",
        "# Save\n",
        "averaged_data.to_csv(\"Project_WVS_filtered.csv\", index=False)\n",
        "\n"
      ]
    }
  ]
}