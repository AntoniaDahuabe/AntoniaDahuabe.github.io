{
  "nbformat": 4,
  "nbformat_minor": 0,
  "metadata": {
    "colab": {
      "provenance": []
    },
    "kernelspec": {
      "name": "python3",
      "display_name": "Python 3"
    },
    "language_info": {
      "name": "python"
    }
  },
  "cells": [
    {
      "cell_type": "markdown",
      "source": [
        "Female\n"
      ],
      "metadata": {
        "id": "3DviKiUCM70p"
      }
    },
    {
      "cell_type": "code",
      "execution_count": 10,
      "metadata": {
        "id": "KkdtHBx8Kuew"
      },
      "outputs": [],
      "source": [
        "import pandas as pd\n",
        "\n",
        "# Data\n",
        "labour_force = 'Project_labour_force_all.csv'\n",
        "time_use = 'Project_time_use_all.csv'\n",
        "labour_force_df = pd.read_csv(labour_force)\n",
        "time_use_df = pd.read_csv(time_use)\n",
        "\n",
        "# Filter for female\n",
        "filtered_labour_force = labour_force_df[labour_force_df['sex.label'] == 'Sex: Female'][\n",
        "    ['ref_area.label', 'obs_value']\n",
        "].rename(columns={'ref_area.label': 'Country', 'obs_value': 'LabourForceParticipation'})\n",
        "\n",
        "# Relevant columns\n",
        "filtered_time_use = time_use_df[\n",
        "    ['Economy', 'Proportion of time spent on unpaid domestic and care work, female (% of 24 hour day)']\n",
        "].rename(columns={\n",
        "    'Economy': 'Country',\n",
        "    'Proportion of time spent on unpaid domestic and care work, female (% of 24 hour day)': 'UnpaidCareWorkTimeFemale'\n",
        "})\n",
        "\n",
        "# Merge\n",
        "merged_data = pd.merge(filtered_labour_force, filtered_time_use, on='Country', how='inner')\n",
        "\n",
        "# Drop missings\n",
        "merged_data_cleaned = merged_data.dropna()\n",
        "\n",
        "# Save\n",
        "merged_data_cleaned.to_csv(\"Project_Merged_Time_Use_Labour_Female.csv\", index=False)\n",
        "\n",
        "\n",
        "\n"
      ]
    },
    {
      "cell_type": "markdown",
      "source": [
        "Male"
      ],
      "metadata": {
        "id": "X1Ap_YRmM_hP"
      }
    },
    {
      "cell_type": "code",
      "source": [
        "import pandas as pd\n",
        "\n",
        "# Data\n",
        "labour_force = 'Project_labour_force_all.csv'\n",
        "time_use = 'Project_time_use_all.csv'\n",
        "labour_force_df = pd.read_csv(labour_force)\n",
        "time_use_df = pd.read_csv(time_use)\n",
        "\n",
        "# Filter for female\n",
        "filtered_labour_force = labour_force_df[labour_force_df['sex.label'] == 'Sex: Male'][\n",
        "    ['ref_area.label', 'obs_value']\n",
        "].rename(columns={'ref_area.label': 'Country', 'obs_value': 'LabourForceParticipation'})\n",
        "\n",
        "# Relevant columns\n",
        "filtered_time_use = time_use_df[\n",
        "    ['Economy', 'Proportion of time spent on unpaid domestic and care work, male (% of 24 hour day)']\n",
        "].rename(columns={\n",
        "    'Economy': 'Country',\n",
        "    'Proportion of time spent on unpaid domestic and care work, male (% of 24 hour day)': 'UnpaidCareWorkTimeFemale'\n",
        "})\n",
        "\n",
        "# Merge\n",
        "merged_data = pd.merge(filtered_labour_force, filtered_time_use, on='Country', how='inner')\n",
        "\n",
        "# Drop missings\n",
        "merged_data_cleaned = merged_data.dropna()\n",
        "\n",
        "# Save\n",
        "merged_data_cleaned.to_csv(\"Project_Merged_Time_Use_Labour_Male.csv\", index=False)\n",
        "\n"
      ],
      "metadata": {
        "id": "JcCsTr8XM69q"
      },
      "execution_count": 11,
      "outputs": []
    }
  ]
}