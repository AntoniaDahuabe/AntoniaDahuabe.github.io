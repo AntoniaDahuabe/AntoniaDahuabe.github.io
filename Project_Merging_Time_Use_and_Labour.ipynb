{
  "nbformat": 4,
  "nbformat_minor": 0,
  "metadata": {
    "colab": {
      "provenance": []
    },
    "kernelspec": {
      "name": "python3",
      "display_name": "Python 3"
    },
    "language_info": {
      "name": "python"
    }
  },
  "cells": [
    {
      "cell_type": "code",
      "execution_count": 8,
      "metadata": {
        "id": "KkdtHBx8Kuew"
      },
      "outputs": [],
      "source": [
        "import pandas as pd\n",
        "\n",
        "# Data\n",
        "labour_force = 'Project_labour_force_all.csv'\n",
        "time_use = 'Project_time_use_all.csv'\n",
        "labour_force_df = pd.read_csv(labour_force)\n",
        "time_use_df = pd.read_csv(time_use)\n",
        "\n",
        "# Filter for female\n",
        "filtered_labour_force = labour_force_df[labour_force_df['sex.label'] == 'Sex: Female'][\n",
        "    ['ref_area.label', 'obs_value']\n",
        "].rename(columns={'ref_area.label': 'Country', 'obs_value': 'LabourForceParticipation'})\n",
        "\n",
        "# Relevant columns\n",
        "filtered_time_use = time_use_df[\n",
        "    ['Economy', 'Proportion of time spent on unpaid domestic and care work, female (% of 24 hour day)']\n",
        "].rename(columns={\n",
        "    'Economy': 'Country',\n",
        "    'Proportion of time spent on unpaid domestic and care work, female (% of 24 hour day)': 'UnpaidCareWorkTimeFemale'\n",
        "})\n",
        "\n",
        "# Merge\n",
        "merged_data = pd.merge(filtered_labour_force, filtered_time_use, on='Country', how='inner')\n",
        "\n",
        "# Drop missings\n",
        "merged_data_cleaned = merged_data.dropna()\n",
        "\n",
        "# Save\n",
        "merged_data_cleaned.to_csv(\"Project_Merged_Time_Use_Labour.csv\", index=False)\n",
        "\n",
        "\n",
        "\n"
      ]
    }
  ]
}